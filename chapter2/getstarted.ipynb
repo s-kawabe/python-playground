{
 "cells": [
  {
   "cell_type": "code",
   "execution_count": 1,
   "id": "109cfeb9-9c89-4aae-a33f-bcdbf364042c",
   "metadata": {},
   "outputs": [
    {
     "name": "stdout",
     "output_type": "stream",
     "text": [
      "hoge\n"
     ]
    }
   ],
   "source": [
    "print('hoge')"
   ]
  },
  {
   "cell_type": "code",
   "execution_count": 8,
   "id": "b00981df-33b9-4618-aa48-b583e1a3b1b5",
   "metadata": {},
   "outputs": [
    {
     "name": "stdout",
     "output_type": "stream",
     "text": [
      "apple\n",
      "banana\n",
      "cherry\n"
     ]
    }
   ],
   "source": [
    "arr = ['apple', 'banana', 'cherry']\n",
    "for a in arr:\n",
    "    print(a)"
   ]
  },
  {
   "cell_type": "code",
   "execution_count": 3,
   "id": "8321a157-b6da-406e-ac58-5618eedb9740",
   "metadata": {},
   "outputs": [
    {
     "name": "stdout",
     "output_type": "stream",
     "text": [
      "これはコード\n"
     ]
    }
   ],
   "source": [
    "print('これはコード')"
   ]
  },
  {
   "cell_type": "markdown",
   "id": "9ae904a6-7b1a-4a0b-9942-e6b8976bcf77",
   "metadata": {},
   "source": [
    "## 四則演算"
   ]
  },
  {
   "cell_type": "code",
   "execution_count": null,
   "id": "517dc06d-0698-47f5-8bc1-c988fdb2ad4c",
   "metadata": {},
   "outputs": [],
   "source": []
  },
  {
   "cell_type": "code",
   "execution_count": null,
   "id": "6d5970fe-d04f-4566-9f54-735373710270",
   "metadata": {},
   "outputs": [],
   "source": []
  },
  {
   "cell_type": "code",
   "execution_count": 11,
   "id": "b3e057cf-fef7-4aa0-aab4-ac652ef38f92",
   "metadata": {},
   "outputs": [
    {
     "name": "stdout",
     "output_type": "stream",
     "text": [
      "10\n",
      "4\n",
      "21\n",
      "2.3333333333333335\n",
      "2\n",
      "1\n"
     ]
    }
   ],
   "source": [
    "a = 7\n",
    "b = 3\n",
    "\n",
    "print(a + b)\n",
    "print(a - b)\n",
    "print(a * b)\n",
    "print(a / b)\n",
    "print(a // b)\n",
    "print(a % b)"
   ]
  },
  {
   "cell_type": "markdown",
   "id": "3c019736-6cb8-4aae-843a-d3c9b7f2b08b",
   "metadata": {},
   "source": [
    "## Boolean"
   ]
  },
  {
   "cell_type": "code",
   "execution_count": 16,
   "id": "e3f54721-369e-4df1-8c89-9297de6c2585",
   "metadata": {},
   "outputs": [
    {
     "name": "stdout",
     "output_type": "stream",
     "text": [
      "True\n",
      "False\n"
     ]
    }
   ],
   "source": [
    "# 大文字で始まる！\n",
    "a = True\n",
    "b = False\n",
    "print(a)\n",
    "print(b)"
   ]
  },
  {
   "cell_type": "markdown",
   "id": "f5dacbdb-b506-4597-9fca-b3dad8ecd8c1",
   "metadata": {},
   "source": [
    "## AND OR NOT演算子"
   ]
  },
  {
   "cell_type": "code",
   "execution_count": 21,
   "id": "c8b523f3-0531-4f37-b365-c32036acd13c",
   "metadata": {},
   "outputs": [
    {
     "name": "stdout",
     "output_type": "stream",
     "text": [
      "True\n",
      "True\n",
      "False\n"
     ]
    }
   ],
   "source": [
    "a = 5\n",
    "b = 10\n",
    "c = 15\n",
    "\n",
    "# 'and' 'or' 'not' というように使う\n",
    "print(a < b and b < c)\n",
    "print(a < b or b > c)\n",
    "print(not(a < b or b > c))"
   ]
  },
  {
   "cell_type": "markdown",
   "id": "5faaa5cc-9f6d-43da-8e68-5bf13177f156",
   "metadata": {},
   "source": [
    "# リスト、タプル、辞書"
   ]
  },
  {
   "cell_type": "code",
   "execution_count": 23,
   "id": "6399861e-e8c5-4e60-9fa7-96e5db2ab844",
   "metadata": {},
   "outputs": [
    {
     "name": "stdout",
     "output_type": "stream",
     "text": [
      "30\n",
      "40\n",
      "50\n"
     ]
    }
   ],
   "source": [
    "# リスト (not配列?)\n",
    "a = [10,20,30,40,50]\n",
    "\n",
    "print(a[2])\n",
    "print(a[3])\n",
    "print(a[4])"
   ]
  },
  {
   "cell_type": "code",
   "execution_count": 31,
   "id": "8e9f1983-b9b1-44c7-85c9-5df143d0e4ff",
   "metadata": {},
   "outputs": [
    {
     "name": "stdout",
     "output_type": "stream",
     "text": [
      "hoge\n",
      "['hoge', 10, 20]\n",
      "[]\n",
      "['hoge', 10, 20, 30, False, True]\n",
      "[20, 30, False, True]\n",
      "['hoge', 10]\n"
     ]
    }
   ],
   "source": [
    "# 色んな型のリスト、スライス\n",
    "a = ['hoge', 10, 20, 30, False, True]\n",
    "\n",
    "print(a[0])\n",
    "print(a[0:3])\n",
    "print(a[-1:3]) #　変な値だと何も返さない\n",
    "print(a[0:10]) # 大きすぎてもOK\n",
    "print(a[2:]) # 最初だけ指定してもOK\n",
    "print(a[:2]) # 最後だけ指定してもOK"
   ]
  },
  {
   "cell_type": "code",
   "execution_count": 34,
   "id": "e32b503f-99fc-4c0d-84e3-a1b97abdabc0",
   "metadata": {},
   "outputs": [
    {
     "name": "stdout",
     "output_type": "stream",
     "text": [
      "50\n"
     ]
    }
   ],
   "source": [
    "# ２次元配列\n",
    "a = [[10,20,30], [40,50,60,]]\n",
    "print(a[1][1])"
   ]
  },
  {
   "cell_type": "code",
   "execution_count": 35,
   "id": "765ce135-a814-47ff-aed3-98581fd982a5",
   "metadata": {},
   "outputs": [
    {
     "name": "stdout",
     "output_type": "stream",
     "text": [
      "[99, 20, 30]\n",
      "[99, 20, 30, 40]\n"
     ]
    }
   ],
   "source": [
    "# 要素の変更と追加\n",
    "a = [10,20,30]\n",
    "a[0] = 99\n",
    "print(a)\n",
    "a.append(40)\n",
    "print(a)"
   ]
  },
  {
   "cell_type": "code",
   "execution_count": 38,
   "id": "cc0e4e75-0925-4291-a9e8-3b4f277bcf56",
   "metadata": {},
   "outputs": [],
   "source": [
    "# タプル\n",
    "a = [10,20,30] # これはリスト\n",
    "b = (40,50,60) # これはタプル\n",
    "\n",
    "# 丸括弧で囲んだリストは「タプル」となる\n",
    "# イミュータブルになる。　(goで言うとスライスのような)\n",
    "\n",
    "# b.append(1)\n",
    "# => AttributeError: 'tuple' object has no attribute 'append'"
   ]
  },
  {
   "cell_type": "code",
   "execution_count": 44,
   "id": "3f8a305e-c528-4d25-88f9-c748da5308ce",
   "metadata": {},
   "outputs": [
    {
     "name": "stdout",
     "output_type": "stream",
     "text": [
      "{'a': 100, 'b': 200}\n",
      "100\n",
      "200\n"
     ]
    },
    {
     "ename": "AttributeError",
     "evalue": "'dict' object has no attribute 'a'",
     "output_type": "error",
     "traceback": [
      "\u001b[0;31m---------------------------------------------------------------------------\u001b[0m",
      "\u001b[0;31mAttributeError\u001b[0m                            Traceback (most recent call last)",
      "\u001b[0;32m/var/folders/c7/c813lpwx3sd185ssff5xt6_40000gn/T/ipykernel_30436/1250751610.py\u001b[0m in \u001b[0;36m<module>\u001b[0;34m\u001b[0m\n\u001b[1;32m      6\u001b[0m \u001b[0mprint\u001b[0m\u001b[0;34m(\u001b[0m\u001b[0ma\u001b[0m\u001b[0;34m[\u001b[0m\u001b[0;34m\"a\"\u001b[0m\u001b[0;34m]\u001b[0m\u001b[0;34m)\u001b[0m\u001b[0;34m\u001b[0m\u001b[0;34m\u001b[0m\u001b[0m\n\u001b[1;32m      7\u001b[0m \u001b[0mprint\u001b[0m\u001b[0;34m(\u001b[0m\u001b[0ma\u001b[0m\u001b[0;34m[\u001b[0m\u001b[0;34m\"b\"\u001b[0m\u001b[0;34m]\u001b[0m\u001b[0;34m)\u001b[0m\u001b[0;34m\u001b[0m\u001b[0;34m\u001b[0m\u001b[0m\n\u001b[0;32m----> 8\u001b[0;31m \u001b[0mprint\u001b[0m\u001b[0;34m(\u001b[0m\u001b[0ma\u001b[0m\u001b[0;34m.\u001b[0m\u001b[0ma\u001b[0m\u001b[0;34m)\u001b[0m\u001b[0;34m\u001b[0m\u001b[0;34m\u001b[0m\u001b[0m\n\u001b[0m\u001b[1;32m      9\u001b[0m \u001b[0;31m# print(a[\"c\"])\u001b[0m\u001b[0;34m\u001b[0m\u001b[0;34m\u001b[0m\u001b[0m\n\u001b[1;32m     10\u001b[0m \u001b[0;31m# => KeyError: 'c'\u001b[0m\u001b[0;34m\u001b[0m\u001b[0;34m\u001b[0m\u001b[0m\n",
      "\u001b[0;31mAttributeError\u001b[0m: 'dict' object has no attribute 'a'"
     ]
    }
   ],
   "source": [
    "# 辞書（オブジェクト、ディクショナリ、ハッシュ）\n",
    "a = {\"a\": 100, \"b\": 200}\n",
    "# a = {a: 100, b: 200} => jsみたいな書き方はだめ\n",
    "\n",
    "print(a)\n",
    "print(a[\"a\"]) # a.a とかはだめ\n",
    "print(a[\"b\"])\n",
    "# print(a[\"c\"]) \n",
    "# => KeyError: 'c'"
   ]
  },
  {
   "cell_type": "markdown",
   "id": "68dcd4a6-eb74-4433-a52d-86a1819bd881",
   "metadata": {},
   "source": [
    "# if"
   ]
  },
  {
   "cell_type": "code",
   "execution_count": null,
   "id": "c58e2ad4-4f87-482d-90c8-e251c0c8976c",
   "metadata": {},
   "outputs": [],
   "source": [
    "a = 10\n",
    "\n",
    "if a == 10:\n",
    "    print('hogehoge')\n",
    "elif a == 15:\n",
    "    print('hugahuga')\n",
    "else\n",
    "    print('piyopiyo')"
   ]
  },
  {
   "cell_type": "markdown",
   "id": "df6e04c3-bd73-4508-a553-6df6cbf2cf29",
   "metadata": {},
   "source": [
    "# for while"
   ]
  },
  {
   "cell_type": "code",
   "execution_count": 45,
   "id": "fd580bd7-a6a5-40cc-900e-6315bdcf5690",
   "metadata": {},
   "outputs": [
    {
     "name": "stdout",
     "output_type": "stream",
     "text": [
      "apple\n",
      "banana\n",
      "cherry\n"
     ]
    }
   ],
   "source": [
    "# for in\n",
    "arr = ['apple', 'banana', 'cherry']\n",
    "for a in arr:\n",
    "    print(a)"
   ]
  },
  {
   "cell_type": "code",
   "execution_count": 46,
   "id": "8548d39b-dbe2-4191-be66-4c1871abcbc1",
   "metadata": {},
   "outputs": [
    {
     "name": "stdout",
     "output_type": "stream",
     "text": [
      "0\n",
      "1\n",
      "2\n",
      "3\n",
      "4\n",
      "5\n"
     ]
    }
   ],
   "source": [
    "# fo range\n",
    "for i in range(0,6):\n",
    "    print(i)"
   ]
  },
  {
   "cell_type": "code",
   "execution_count": null,
   "id": "d16206a1-66ab-48eb-ae56-b8b15a1bf53f",
   "metadata": {},
   "outputs": [],
   "source": [
    "# for and if\n",
    "a = []\n",
    "for i range range(0,10):\n",
    "    if(i % 2 =)"
   ]
  },
  {
   "cell_type": "code",
   "execution_count": null,
   "id": "b6ea5cfe-d4af-4910-b694-a102300d1ad6",
   "metadata": {},
   "outputs": [],
   "source": []
  },
  {
   "cell_type": "markdown",
   "id": "7811270c-22f0-4f3c-aa5a-6b8eb98b736d",
   "metadata": {},
   "source": [
    "# 分岐とループ"
   ]
  },
  {
   "cell_type": "code",
   "execution_count": null,
   "id": "6be644b9-85fa-4c2f-9d7b-679c29d78c78",
   "metadata": {},
   "outputs": [],
   "source": []
  }
 ],
 "metadata": {
  "kernelspec": {
   "display_name": "Python 3 (ipykernel)",
   "language": "python",
   "name": "python3"
  },
  "language_info": {
   "codemirror_mode": {
    "name": "ipython",
    "version": 3
   },
   "file_extension": ".py",
   "mimetype": "text/x-python",
   "name": "python",
   "nbconvert_exporter": "python",
   "pygments_lexer": "ipython3",
   "version": "3.9.7"
  }
 },
 "nbformat": 4,
 "nbformat_minor": 5
}
